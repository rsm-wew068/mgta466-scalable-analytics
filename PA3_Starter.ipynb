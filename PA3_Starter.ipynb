{
 "cells": [
  {
   "cell_type": "code",
   "execution_count": 1,
   "metadata": {},
   "outputs": [
    {
     "data": {
      "text/html": [
       "<style>table {align:left;display:block} </style>"
      ],
      "text/plain": [
       "<IPython.core.display.HTML object>"
      ]
     },
     "execution_count": 1,
     "metadata": {},
     "output_type": "execute_result"
    }
   ],
   "source": [
    "#Run this cell for markdown formatting assistance. This is not a part of the assignment.\n",
    "\n",
    "from IPython.core.display import HTML\n",
    "table_css = 'table {align:left;display:block} '\n",
    "HTML('<style>{}</style>'.format(table_css))"
   ]
  },
  {
   "cell_type": "markdown",
   "metadata": {},
   "source": [
    "# MGTA 466: Analytics Assignment 3 - EDA on Airline Data\n",
    "\n",
    "#### Submission on Gradescope:\n",
    "  * You need to submit the following two files under \"PA3\". Instructions to generate the csv files are given in their respective sections\n",
    "      * The current notebook - **PA3_Starter.ipynb** - with all cells executed\n",
    "      * csv file containing the top 50 rows of the input dataframe with transformed columns 'MONTH' and 'DAY_OF_WEEK' and filtered such that only flights from the smallest flight carrier are present + column header - **50_rows.csv**\n",
    "      \n",
    "#### IMPORTANT submission guidelines enforced by autograder. Please read carefully:\n",
    "  * Make sure that all the cells in this notebook are executed and that the outputs are present in the expected cells before submission\n",
    "  * Some cells are marked **DO NOT DELETE**. These cells cannot be deleted and the output of these cells will be used for autograding\n",
    "  * You can add additional cells, but the **Expected Output** for each of the tasks MUST be the output of the cells marked as such\n",
    "  * DO NOT print anything other than the *exact* expected output. **Do not include any sentences/words describing the output**. This is strictly enforced by the autograder which checks for an *exact* match of the expected output. For example, if you are expected to print the PySpark version:\n",
    "      * '10.9.8' - <span style=\"color:#093\">CORRECT</span>\n",
    "      * 'The PySpark version is 10.9.8' - <span style=\"color:#FF0000\">INCORRECT</span>\n",
    "  * You can add cells for printing debugging information anywhere, but do not print anything else in **Expected Output** cells other than the expected output for the task\n",
    "---\n",
    "\n",
    "Remember: when in doubt, read the documentation first. It's always helpful to search for the class that you're trying to work with, e.g. pyspark.sql.DataFrame. \n",
    "\n",
    "PySpark API Documentation: https://spark.apache.org/docs/latest/api/python/index.html\n",
    "\n",
    "Spark DataFrame Guide:  https://spark.apache.org/docs/latest/sql-programming-guide.html"
   ]
  },
  {
   "cell_type": "markdown",
   "metadata": {},
   "source": [
    "### General instructions for all plots (Important for Autograder)\n",
    "1. All plots must have the given title and axes labels\n",
    "2. Figure size (figsize) for all plots must be set to (10,8)\n",
    "3. Keep the color of the plots and other style attributes set to default\n",
    "4. Always do plt.show() at the end to display the plots"
   ]
  },
  {
   "cell_type": "code",
   "execution_count": 2,
   "metadata": {},
   "outputs": [],
   "source": [
    "import matplotlib.pyplot as plt\n",
    "import matplotlib"
   ]
  },
  {
   "cell_type": "markdown",
   "metadata": {},
   "source": [
    "### 1. Start Spark Session\n",
    "\n",
    "#### **Expected output**: None"
   ]
  },
  {
   "cell_type": "code",
   "execution_count": 3,
   "metadata": {},
   "outputs": [],
   "source": [
    "# Suppress native-hadoop warning\n",
    "!sed -i '$a\\# Add the line for suppressing the NativeCodeLoader warning \\nlog4j.logger.org.apache.hadoop.util.NativeCodeLoader=ERROR,console' /$HADOOP_HOME/etc/hadoop/log4j.properties"
   ]
  },
  {
   "cell_type": "code",
   "execution_count": 4,
   "metadata": {},
   "outputs": [
    {
     "data": {
      "text/plain": [
       "'3.5.1'"
      ]
     },
     "execution_count": 4,
     "metadata": {},
     "output_type": "execute_result"
    }
   ],
   "source": [
    "# Change the number of cores in this code block\n",
    "# by setting `spark.master` to `local[n]` where\n",
    "# n is the number of cores\n",
    "import pyspark\n",
    "from pyspark.sql import SparkSession\n",
    "conf = pyspark.SparkConf().setAll([('spark.master', 'local[4]'),\n",
    "                                   ('spark.app.name', 'Spark Demo')])\n",
    "spark = SparkSession.builder.config(conf=conf).getOrCreate()\n",
    "pyspark.__version__"
   ]
  },
  {
   "cell_type": "markdown",
   "metadata": {},
   "source": [
    "### 2. Set Schema & Load Data - 1 point\n",
    "\n",
    "Define schema for the data file with the following columns for the corresponding data types and other rules:\n",
    "- Integer: '_c0', 'OP_CARRIER_FL_NUM'\n",
    "- String: 'FL_DATE', 'OP_CARRIER', 'ORIGIN', 'DEST', 'CANCELLATION_CODE'\n",
    "- Double: 'CRS_DEP_TIME', 'DEP_TIME', 'DEP_DELAY', 'TAXI_OUT', 'WHEELS_OFF', 'WHEELS_ON', 'TAXI_IN', 'CRS_ARR_TIME', 'ARR_TIME', 'ARR_DELAY', 'CANCELLED', 'DIVERTED', 'CRS_ELAPSED_TIME', 'ACTUAL_ELAPSED_TIME', 'AIR_TIME', 'DISTANCE', 'CARRIER_DELAY', 'WEATHER_DELAY', 'NAS_DELAY', 'SECURITY_DELAY', 'LATE_AIRCRAFT_DELAY'\n",
    "\n",
    "- Many time related columns are set to be double cause they need further processing before they can be converted to datetime\n",
    "- All columns can have NULL values\n",
    "- Useful links: [pyspark.sql.types.StructField](https://spark.apache.org/docs/latest/api/python/reference/pyspark.sql/api/pyspark.sql.types.StructField.html), [pyspark.sql.types.StructType](https://spark.apache.org/docs/latest/api/python/reference/pyspark.sql/api/pyspark.sql.types.StructType.html), [DataTypes](https://spark.apache.org/docs/latest/sql-ref-datatypes.html)\n",
    "\n",
    "Read data from the `Airline_2016_2018.csv` file using the defined schema and select only 'FL_DATE', 'OP_CARRIER', 'ORIGIN', 'DISTANCE', 'CANCELLED', 'ARR_DELAY' fields\n",
    "Note: The given csv file is zipped and it needs to be unzipped before it can be loaded\n",
    "#### **Expected output**: Schema of the dataframe after selecting 'FL_DATE', 'OP_CARRIER', 'ORIGIN', 'DISTANCE', 'CANCELLED', 'ARR_DELAY' fields"
   ]
  },
  {
   "cell_type": "code",
   "execution_count": 5,
   "metadata": {},
   "outputs": [
    {
     "name": "stdout",
     "output_type": "stream",
     "text": [
      "/home/jovyan/MGTA466:Session1/Demo1-Local\n"
     ]
    }
   ],
   "source": [
    "!pwd"
   ]
  },
  {
   "cell_type": "code",
   "execution_count": 6,
   "metadata": {
    "cell_id": "ed567147-01ec-475b-99b8-7728231a10c4",
    "deletable": false,
    "tags": []
   },
   "outputs": [],
   "source": [
    "file_path = \"file:///home/jovyan/MGTA466:Session1/Demo1-Local/Airline_2016_2018.csv\"\n",
    "\n",
    "df = spark.read.csv(file_path, header=True, inferSchema=True).cache()"
   ]
  },
  {
   "cell_type": "code",
   "execution_count": 7,
   "metadata": {},
   "outputs": [
    {
     "name": "stdout",
     "output_type": "stream",
     "text": [
      "root\n",
      " |-- _c0: integer (nullable = true)\n",
      " |-- FL_DATE: date (nullable = true)\n",
      " |-- OP_CARRIER: string (nullable = true)\n",
      " |-- OP_CARRIER_FL_NUM: integer (nullable = true)\n",
      " |-- ORIGIN: string (nullable = true)\n",
      " |-- DEST: string (nullable = true)\n",
      " |-- CRS_DEP_TIME: integer (nullable = true)\n",
      " |-- DEP_TIME: double (nullable = true)\n",
      " |-- DEP_DELAY: double (nullable = true)\n",
      " |-- TAXI_OUT: double (nullable = true)\n",
      " |-- WHEELS_OFF: double (nullable = true)\n",
      " |-- WHEELS_ON: double (nullable = true)\n",
      " |-- TAXI_IN: double (nullable = true)\n",
      " |-- CRS_ARR_TIME: integer (nullable = true)\n",
      " |-- ARR_TIME: double (nullable = true)\n",
      " |-- ARR_DELAY: double (nullable = true)\n",
      " |-- CANCELLED: double (nullable = true)\n",
      " |-- CANCELLATION_CODE: string (nullable = true)\n",
      " |-- DIVERTED: double (nullable = true)\n",
      " |-- CRS_ELAPSED_TIME: double (nullable = true)\n",
      " |-- ACTUAL_ELAPSED_TIME: double (nullable = true)\n",
      " |-- AIR_TIME: double (nullable = true)\n",
      " |-- DISTANCE: double (nullable = true)\n",
      " |-- CARRIER_DELAY: double (nullable = true)\n",
      " |-- WEATHER_DELAY: double (nullable = true)\n",
      " |-- NAS_DELAY: double (nullable = true)\n",
      " |-- SECURITY_DELAY: double (nullable = true)\n",
      " |-- LATE_AIRCRAFT_DELAY: double (nullable = true)\n",
      " |-- Unnamed: 27: string (nullable = true)\n",
      "\n"
     ]
    }
   ],
   "source": [
    "df.printSchema()"
   ]
  },
  {
   "cell_type": "code",
   "execution_count": 8,
   "metadata": {},
   "outputs": [],
   "source": [
    "from pyspark.sql.functions import col\n",
    "\n",
    "df_selected = df.select(\"FL_DATE\", \"OP_CARRIER\", \"ORIGIN\", \"DISTANCE\", \"CANCELLED\", \"ARR_DELAY\")\n",
    "\n",
    "df_transformed = df_selected \\\n",
    "    .withColumn(\"FL_DATE\", col(\"FL_DATE\").cast(\"string\")) \\\n",
    "    .withColumn(\"DISTANCE\", col(\"DISTANCE\").cast(\"double\")) \\\n",
    "    .withColumn(\"CANCELLED\", col(\"CANCELLED\").cast(\"double\")) \\\n",
    "    .withColumn(\"ARR_DELAY\", col(\"ARR_DELAY\").cast(\"double\"))"
   ]
  },
  {
   "cell_type": "code",
   "execution_count": 9,
   "metadata": {},
   "outputs": [
    {
     "name": "stdout",
     "output_type": "stream",
     "text": [
      "root\n",
      " |-- FL_DATE: string (nullable = true)\n",
      " |-- OP_CARRIER: string (nullable = true)\n",
      " |-- ORIGIN: string (nullable = true)\n",
      " |-- DISTANCE: double (nullable = true)\n",
      " |-- CANCELLED: double (nullable = true)\n",
      " |-- ARR_DELAY: double (nullable = true)\n",
      "\n"
     ]
    }
   ],
   "source": [
    "df_transformed.printSchema()"
   ]
  },
  {
   "cell_type": "markdown",
   "metadata": {},
   "source": [
    "### 3. Clean the data - 1 point\n",
    "\n",
    "##### Task:\n",
    "1. Remove all cancelled flights and remove rows with any empty values.\n",
    "2. Drop the 'CANCELLED' column from the Dataframe after filtering.\n",
    "\n",
    "Note: 'CANCELLED' = 0 shows that the flight is not cancelled\n",
    "\n",
    "##### Expected output:\n",
    "The first 25 rows of the cleaned dataframe"
   ]
  },
  {
   "cell_type": "code",
   "execution_count": 10,
   "metadata": {},
   "outputs": [
    {
     "name": "stdout",
     "output_type": "stream",
     "text": [
      "+----------+----------+------+--------+---------+---------+\n",
      "|   FL_DATE|OP_CARRIER|ORIGIN|DISTANCE|CANCELLED|ARR_DELAY|\n",
      "+----------+----------+------+--------+---------+---------+\n",
      "|2016-01-01|        DL|   DTW|  1979.0|      0.0|    -24.0|\n",
      "|2016-01-01|        DL|   ATL|   640.0|      0.0|     -2.0|\n",
      "|2016-01-01|        DL|   LAX|  1947.0|      0.0|    -13.0|\n",
      "|2016-01-01|        DL|   SLC|  1590.0|      0.0|    -16.0|\n",
      "|2016-01-01|        DL|   BZN|   874.0|      0.0|    124.0|\n",
      "+----------+----------+------+--------+---------+---------+\n",
      "only showing top 5 rows\n",
      "\n"
     ]
    }
   ],
   "source": [
    "df_transformed.show(5)"
   ]
  },
  {
   "cell_type": "code",
   "execution_count": 11,
   "metadata": {
    "cell_id": "9b98e1e5-2f82-4f63-a9c6-ac5e9a40fec2",
    "deletable": false,
    "tags": []
   },
   "outputs": [],
   "source": [
    "df_cleaned = df_transformed.filter(col(\"CANCELLED\") == 0).dropna().drop(\"CANCELLED\")"
   ]
  },
  {
   "cell_type": "code",
   "execution_count": 12,
   "metadata": {},
   "outputs": [
    {
     "name": "stdout",
     "output_type": "stream",
     "text": [
      "+----------+----------+------+--------+---------+\n",
      "|   FL_DATE|OP_CARRIER|ORIGIN|DISTANCE|ARR_DELAY|\n",
      "+----------+----------+------+--------+---------+\n",
      "|2016-01-01|        DL|   DTW|  1979.0|    -24.0|\n",
      "|2016-01-01|        DL|   ATL|   640.0|     -2.0|\n",
      "|2016-01-01|        DL|   LAX|  1947.0|    -13.0|\n",
      "|2016-01-01|        DL|   SLC|  1590.0|    -16.0|\n",
      "|2016-01-01|        DL|   BZN|   874.0|    124.0|\n",
      "|2016-01-01|        DL|   ATL|   214.0|     83.0|\n",
      "|2016-01-01|        DL|   BNA|   214.0|     74.0|\n",
      "|2016-01-01|        DL|   ATL|   270.0|      3.0|\n",
      "|2016-01-01|        DL|   JAX|   270.0|    -15.0|\n",
      "|2016-01-01|        DL|   ATL|   761.0|    -12.0|\n",
      "|2016-01-01|        DL|   MSP|  1517.0|    -33.0|\n",
      "|2016-01-01|        DL|   LAX|  2475.0|    -14.0|\n",
      "|2016-01-01|        DL|   ATL|   620.0|    -11.0|\n",
      "|2016-01-01|        DL|   MDT|   620.0|    -15.0|\n",
      "|2016-01-01|        DL|   SLC|  1990.0|      6.0|\n",
      "|2016-01-01|        DL|   SAV|   214.0|    -18.0|\n",
      "|2016-01-01|        DL|   BUF|   712.0|      6.0|\n",
      "|2016-01-01|        DL|   LGA|  1096.0|    -26.0|\n",
      "|2016-01-01|        DL|   ATL|   271.0|    -10.0|\n",
      "|2016-01-01|        DL|   PNS|   271.0|    -20.0|\n",
      "|2016-01-01|        DL|   ATL|   270.0|     -2.0|\n",
      "|2016-01-01|        DL|   MSP|   931.0|    -19.0|\n",
      "|2016-01-01|        DL|   DCA|   931.0|    -26.0|\n",
      "|2016-01-01|        DL|   CMH|   447.0|    -11.0|\n",
      "|2016-01-01|        DL|   DTW|  1481.0|    -11.0|\n",
      "+----------+----------+------+--------+---------+\n",
      "only showing top 25 rows\n",
      "\n"
     ]
    }
   ],
   "source": [
    "df_cleaned.show(25)"
   ]
  },
  {
   "cell_type": "markdown",
   "metadata": {},
   "source": [
    "### 4. Date/time transformations - 1 point\n",
    "\n",
    "##### Tasks\n",
    "1. Get the day of week (ranging from 1 for a Sunday to a 7 for Saturday) for each row and store it in a column named 'DAY_OF_WEEK'\n",
    "2. Get the month for each row from the column FL_DATE, cast it to [ShortType](https://spark.apache.org/docs/latest/sql-ref-datatypes.html) and store it in column 'MONTH'\n",
    "\n",
    "Note: The column 'FL_DATE' has date in YYYY-MM-DD format\n",
    "\n",
    "Useful functions - [pyspark.sql.functions.dayofweek](https://spark.apache.org/docs/latest/api/python/reference/pyspark.sql/api/pyspark.sql.functions.dayofweek.html), [pyspark.sql.functions.split](https://spark.apache.org/docs/latest/api/python/reference/pyspark.sql/api/pyspark.sql.functions.split.html), [pyspark.sql.Column.cast](https://spark.apache.org/docs/latest/api/python/reference/pyspark.sql/api/pyspark.sql.Column.cast.html)\n",
    "\n",
    "##### **Expected output** -  The top 25 rows of the transformed dataframe with columns 'FL_DATE', 'OP_CARRIER', 'ORIGIN', 'DISTANCE', 'ARR_DELAY', 'DAY_OF_WEEK', 'MONTH'\n",
    "Your output should look like this:\n",
    "\n",
    "|   FL_DATE|OP_CARRIER|ORIGIN|DISTANCE|ARR_DELAY|DAY_OF_WEEK|MONTH|\n",
    "| ---------|----------|------|--------|---------|-----------|-----|\n",
    "|2016-01-01|        DL|   DTW|  1979.0|    -24.0|          6|    1|\n",
    "|2016-01-01|        DL|   ATL|   640.0|     -2.0|          6|    1|\n",
    "\n",
    "..23 more"
   ]
  },
  {
   "cell_type": "code",
   "execution_count": 13,
   "metadata": {
    "cell_id": "cda66361-f2a3-4978-9af7-95020d0a362d",
    "deletable": false,
    "tags": []
   },
   "outputs": [],
   "source": [
    "from pyspark.sql.functions import dayofweek, month\n",
    "from pyspark.sql.types import ShortType\n",
    "\n",
    "df_transformed = df_cleaned \\\n",
    "    .withColumn(\"DAY_OF_WEEK\", dayofweek(df_cleaned[\"FL_DATE\"])) \\\n",
    "    .withColumn(\"MONTH\", month(df_cleaned[\"FL_DATE\"]).cast(ShortType()))"
   ]
  },
  {
   "cell_type": "code",
   "execution_count": 14,
   "metadata": {},
   "outputs": [
    {
     "name": "stdout",
     "output_type": "stream",
     "text": [
      "+----------+----------+------+--------+---------+-----------+-----+\n",
      "|   FL_DATE|OP_CARRIER|ORIGIN|DISTANCE|ARR_DELAY|DAY_OF_WEEK|MONTH|\n",
      "+----------+----------+------+--------+---------+-----------+-----+\n",
      "|2016-01-01|        DL|   DTW|  1979.0|    -24.0|          6|    1|\n",
      "|2016-01-01|        DL|   ATL|   640.0|     -2.0|          6|    1|\n",
      "|2016-01-01|        DL|   LAX|  1947.0|    -13.0|          6|    1|\n",
      "|2016-01-01|        DL|   SLC|  1590.0|    -16.0|          6|    1|\n",
      "|2016-01-01|        DL|   BZN|   874.0|    124.0|          6|    1|\n",
      "|2016-01-01|        DL|   ATL|   214.0|     83.0|          6|    1|\n",
      "|2016-01-01|        DL|   BNA|   214.0|     74.0|          6|    1|\n",
      "|2016-01-01|        DL|   ATL|   270.0|      3.0|          6|    1|\n",
      "|2016-01-01|        DL|   JAX|   270.0|    -15.0|          6|    1|\n",
      "|2016-01-01|        DL|   ATL|   761.0|    -12.0|          6|    1|\n",
      "|2016-01-01|        DL|   MSP|  1517.0|    -33.0|          6|    1|\n",
      "|2016-01-01|        DL|   LAX|  2475.0|    -14.0|          6|    1|\n",
      "|2016-01-01|        DL|   ATL|   620.0|    -11.0|          6|    1|\n",
      "|2016-01-01|        DL|   MDT|   620.0|    -15.0|          6|    1|\n",
      "|2016-01-01|        DL|   SLC|  1990.0|      6.0|          6|    1|\n",
      "|2016-01-01|        DL|   SAV|   214.0|    -18.0|          6|    1|\n",
      "|2016-01-01|        DL|   BUF|   712.0|      6.0|          6|    1|\n",
      "|2016-01-01|        DL|   LGA|  1096.0|    -26.0|          6|    1|\n",
      "|2016-01-01|        DL|   ATL|   271.0|    -10.0|          6|    1|\n",
      "|2016-01-01|        DL|   PNS|   271.0|    -20.0|          6|    1|\n",
      "|2016-01-01|        DL|   ATL|   270.0|     -2.0|          6|    1|\n",
      "|2016-01-01|        DL|   MSP|   931.0|    -19.0|          6|    1|\n",
      "|2016-01-01|        DL|   DCA|   931.0|    -26.0|          6|    1|\n",
      "|2016-01-01|        DL|   CMH|   447.0|    -11.0|          6|    1|\n",
      "|2016-01-01|        DL|   DTW|  1481.0|    -11.0|          6|    1|\n",
      "+----------+----------+------+--------+---------+-----------+-----+\n",
      "only showing top 25 rows\n",
      "\n"
     ]
    }
   ],
   "source": [
    "df_transformed.show(25)"
   ]
  },
  {
   "cell_type": "markdown",
   "metadata": {},
   "source": [
    "#### **Expected output** -  The datatypes of all the columns in the resultant DataFrame\n"
   ]
  },
  {
   "cell_type": "code",
   "execution_count": 15,
   "metadata": {
    "cell_id": "005c9828-1664-4e4e-b7d7-2b1414329e09",
    "deletable": false,
    "tags": []
   },
   "outputs": [
    {
     "data": {
      "text/plain": [
       "[('FL_DATE', 'string'),\n",
       " ('OP_CARRIER', 'string'),\n",
       " ('ORIGIN', 'string'),\n",
       " ('DISTANCE', 'double'),\n",
       " ('ARR_DELAY', 'double'),\n",
       " ('DAY_OF_WEEK', 'int'),\n",
       " ('MONTH', 'smallint')]"
      ]
     },
     "execution_count": 15,
     "metadata": {},
     "output_type": "execute_result"
    }
   ],
   "source": [
    "df_transformed.dtypes"
   ]
  },
  {
   "cell_type": "markdown",
   "metadata": {},
   "source": [
    "### 5. Analyze top 10 origin airports - 5 points"
   ]
  },
  {
   "cell_type": "markdown",
   "metadata": {},
   "source": [
    "#### 5.1 - Plot number of flights for top 10 origin airports (2 points)\n",
    "\n",
    "##### Tasks\n",
    "1. Calculate the count of flights for the top 10 airports by flight origin\n",
    "2. Plot a bar plot of the count of flights versus the airport codes\n",
    "\n",
    "Useful functions - [pyspark.sql.DataFrame.groupBy](https://spark.apache.org/docs/latest/api/python/reference/pyspark.sql/api/pyspark.sql.DataFrame.groupBy.html), [pyspark.pandas.groupby.GroupBy.count](https://spark.apache.org/docs/latest/api/python/reference/pyspark.pandas/api/pyspark.pandas.groupby.GroupBy.count.html)"
   ]
  },
  {
   "cell_type": "markdown",
   "metadata": {},
   "source": [
    "##### **Expected output** \n",
    "\n",
    "The count of flights for the top 10 airports by flight origin, sorted in descending order of count with column names 'ORIGIN' and 'count'"
   ]
  },
  {
   "cell_type": "code",
   "execution_count": 16,
   "metadata": {
    "cell_id": "a3da1a3b-bca8-4f4f-8076-453219d0f3ab",
    "deletable": false,
    "tags": []
   },
   "outputs": [
    {
     "name": "stdout",
     "output_type": "stream",
     "text": [
      "+------+-------+\n",
      "|ORIGIN|  count|\n",
      "+------+-------+\n",
      "|   ATL|1126019|\n",
      "|   ORD| 826445|\n",
      "|   DEN| 677307|\n",
      "|   DFW| 645478|\n",
      "|   LAX| 641315|\n",
      "|   SFO| 513398|\n",
      "|   PHX| 483470|\n",
      "|   LAS| 458871|\n",
      "|   CLT| 447668|\n",
      "|   IAH| 432031|\n",
      "+------+-------+\n",
      "\n"
     ]
    }
   ],
   "source": [
    "top_10_airports = df_transformed.groupBy(\"ORIGIN\").count().orderBy(\"count\", ascending=False).limit(10)\n",
    "top_10_airports.show()"
   ]
  },
  {
   "cell_type": "markdown",
   "metadata": {},
   "source": [
    "Useful functions - [matplotlib.pyplot.bar](https://matplotlib.org/stable/api/_as_gen/matplotlib.pyplot.bar.html)\n",
    "##### **Expected output** A bar plot of count of flights for each day of the week titled 'No. of flights for top 10 origin airports' with the x-axis label as 'Origin Airport' and y-axis label as 'No. of Flights'"
   ]
  },
  {
   "cell_type": "code",
   "execution_count": 17,
   "metadata": {},
   "outputs": [],
   "source": [
    "top_10_airports_pd = top_10_airports.toPandas()"
   ]
  },
  {
   "cell_type": "code",
   "execution_count": 18,
   "metadata": {
    "cell_id": "ccd31b32-6a56-4955-b31d-71d24310a196",
    "deletable": false,
    "tags": []
   },
   "outputs": [
    {
     "data": {
      "image/png": "[encoded data removed]",
      "text/plain": [
       "<Figure size 1000x800 with 1 Axes>"
      ]
     },
     "metadata": {},
     "output_type": "display_data"
    }
   ],
   "source": [
    "plt.figure(figsize=(10,8))\n",
    "plt.bar(top_10_airports_pd[\"ORIGIN\"], top_10_airports_pd[\"count\"])\n",
    "plt.xlabel(\"Origin Airport\")\n",
    "plt.ylabel(\"No. of Flights\")\n",
    "plt.title(\"No. of flights for top 10 origin airports\")\n",
    "plt.show()"
   ]
  },
  {
   "cell_type": "markdown",
   "metadata": {},
   "source": [
    "#### 5.2 - Plot the longest flight by distance for the top 10 origin airports (3 points)\n",
    "\n",
    "##### Tasks\n",
    "1. Filter the original dataframe by top 10 origin airports\n",
    "2. Calculate the longest flight by distance for each of the top 10 origin airports\n",
    "3. Plot a bar plot of the longest flight by distance for the top 10 origin airports\n",
    "\n",
    "Useful functions - [pyspark.sql.DataFrame.groupBy](https://spark.apache.org/docs/latest/api/python/reference/pyspark.sql/api/pyspark.sql.DataFrame.groupBy.html), [pyspark.pandas.groupby.GroupBy.agg](https://spark.apache.org/docs/latest/api/python/reference/pyspark.pandas/api/pyspark.pandas.groupby.DataFrameGroupBy.agg.html), [pyspark.sql.Column.alias](https://spark.apache.org/docs/latest/api/python/reference/pyspark.sql/api/pyspark.sql.Column.alias.html), [pyspark.sql.DataFrame.filter](https://spark.apache.org/docs/latest/api/python/reference/pyspark.sql/api/pyspark.sql.DataFrame.filter.html), [pyspark.sql.Column.isin](https://spark.apache.org/docs/latest/api/python/reference/pyspark.sql/api/pyspark.sql.Column.isin.html), [matplotlib.pyplot.bar](https://matplotlib.org/stable/api/_as_gen/matplotlib.pyplot.bar.html)"
   ]
  },
  {
   "cell_type": "markdown",
   "metadata": {},
   "source": [
    "##### **Expected output** \n",
    "\n",
    "The longest flights by distance for the top 10 origin airports sorted in descending order of distance with column names 'ORIGIN' and 'MAX_DISTANCE'"
   ]
  },
  {
   "cell_type": "code",
   "execution_count": null,
   "metadata": {
    "cell_id": "c0bd5521-2a86-41fd-b7e0-b4e5ff331887",
    "deletable": false,
    "tags": []
   },
   "outputs": [],
   "source": [
    "# Hint: Use the result of 5.1 and convert the top 10 airports Pyspark DF to a Pandas DF using toPandas() and then convert it into a \n",
    "# list to allow easy filtering. Make sure you only call toPandas() on the filtered Spark DF\n",
    "from pyspark.sql.functions import max\n",
    "from pyspark.sql.functions import col\n",
    "\n",
    "top_10_airports_list = [row[\"ORIGIN\"] for row in top_10_airports.collect()]\n",
    "\n",
    "df_top_10_airports = df_transformed.filter(col(\"ORIGIN\").isin(top_10_airports_list))\n",
    "\n",
    "longest_flights = df_top_10_airports.groupBy(\"ORIGIN\").agg(max(col(\"DISTANCE\")).alias(\"MAX_DISTANCE\")).orderBy(col(\"MAX_DISTANCE\"), ascending=False)"
   ]
  },
  {
   "cell_type": "markdown",
   "metadata": {},
   "source": [
    "##### **Expected output** A bar plot of the longest flight by distance for the top 10 origin airports titled 'Longest flight by distance for top 10 origin airports' with x-axis label as 'Origin Airport' and y-axis label as 'Distance (miles)'"
   ]
  },
  {
   "cell_type": "code",
   "execution_count": 21,
   "metadata": {},
   "outputs": [],
   "source": [
    "longest_flights_pd = longest_flights.toPandas()"
   ]
  },
  {
   "cell_type": "code",
   "execution_count": 22,
   "metadata": {
    "cell_id": "ce072285-413f-4b15-8432-34cc32090e94",
    "deletable": false,
    "tags": []
   },
   "outputs": [
    {
     "data": {
      "image/png": "[encoded data removed]",
      "text/plain": [
       "<Figure size 1000x800 with 1 Axes>"
      ]
     },
     "metadata": {},
     "output_type": "display_data"
    }
   ],
   "source": [
    "plt.figure(figsize=(10, 8))\n",
    "plt.bar(longest_flights_pd[\"ORIGIN\"], longest_flights_pd[\"MAX_DISTANCE\"])\n",
    "plt.xlabel(\"Origin Airport\")\n",
    "plt.ylabel(\"Distance (miles)\")\n",
    "plt.title(\"Longest flight by distance for top 10 origin airports\")\n",
    "plt.show()"
   ]
  },
  {
   "cell_type": "markdown",
   "metadata": {},
   "source": [
    "### 6. Get a list of the 10 smallest flight carriers in the US - 2 points\n",
    "\n",
    "##### Tasks\n",
    "1. Count the number of flights for each flight carrier and sort in ascending order by count\n",
    "2. Get the 10 smallest carriers from this sorted dataframe\n",
    "3. Plot a pie chart of the flight counts of the smallest 10 carriers\n",
    "\n",
    "Useful functions - [pyspark.sql.DataFrame.groupBy](https://spark.apache.org/docs/latest/api/python/reference/pyspark.sql/api/pyspark.sql.DataFrame.groupBy.html), [pyspark.pandas.groupby.GroupBy.count](https://spark.apache.org/docs/latest/api/python/reference/pyspark.pandas/api/pyspark.pandas.groupby.GroupBy.count.html), [matplotlib.pyplot.pie](https://matplotlib.org/stable/api/_as_gen/matplotlib.pyplot.pie.html)\n",
    "\n",
    "##### **Expected output** The smallest 10 flight carriers and the count of flights from them under column names 'OP_CARRIER' and 'count'\n"
   ]
  },
  {
   "cell_type": "code",
   "execution_count": null,
   "metadata": {
    "cell_id": "8d0473a5-44f4-49f5-ab9d-3554356723da",
    "deletable": false,
    "tags": []
   },
   "outputs": [
    {
     "name": "stdout",
     "output_type": "stream",
     "text": [
      "+----------+------+\n",
      "|OP_CARRIER| count|\n",
      "+----------+------+\n",
      "|        G4| 95192|\n",
      "|        VX|155092|\n",
      "|        YV|209094|\n",
      "|        9E|236403|\n",
      "|        HA|239823|\n",
      "|        OH|265784|\n",
      "|        MQ|284497|\n",
      "|        YX|305252|\n",
      "|        F9|313232|\n",
      "|        NK|460968|\n",
      "+----------+------+\n",
      "\n"
     ]
    }
   ],
   "source": [
    "smallest_10_carriers = df_transformed.groupBy(\"OP_CARRIER\").count().orderBy(\"count\", ascending=True).limit(10)\n",
    "smallest_10_carriers.show()"
   ]
  },
  {
   "cell_type": "markdown",
   "metadata": {},
   "source": [
    "##### **Expected output** A pie chart of the flight share of the smallest 10 carriers titled 'Flight share of the smallest 10 Flight Carriers in the US'"
   ]
  },
  {
   "cell_type": "code",
   "execution_count": 39,
   "metadata": {},
   "outputs": [],
   "source": [
    "smallest_10_carriers_pd = smallest_10_carriers.toPandas()"
   ]
  },
  {
   "cell_type": "code",
   "execution_count": 43,
   "metadata": {
    "cell_id": "31ce1ca8-3870-46dd-8d58-c0ebd2ceb9ca",
    "deletable": false,
    "tags": []
   },
   "outputs": [
    {
     "data": {
      "image/png": "[encoded data removed]",
      "text/plain": [
       "<Figure size 1000x800 with 1 Axes>"
      ]
     },
     "metadata": {},
     "output_type": "display_data"
    }
   ],
   "source": [
    "plt.figure(figsize=(10, 8))\n",
    "plt.pie(\n",
    "    smallest_10_carriers_pd[\"count\"], \n",
    "    labels=smallest_10_carriers_pd[\"OP_CARRIER\"]\n",
    ")\n",
    "plt.title(\"Flight share of the smallest 10 Flight Carriers in the US\")\n",
    "plt.show()"
   ]
  },
  {
   "cell_type": "markdown",
   "metadata": {},
   "source": [
    "The codes of the flight carriers in your analysis above correspond to:\n",
    "\n",
    "- 9E - Endeavor Air\n",
    "- F9 - Frontier Airlines\n",
    "- G4 - Allegiant Air\n",
    "- HA - Hawaiian Airlines\n",
    "- MQ - Envoy Air\n",
    "- NK - Spirit Airlines\n",
    "- OH - Jetstream Intl\n",
    "- VX - Virgin America (Defunct)\n",
    "- YV - Mesa Airlines\n",
    "- YX - Republic Airlines\n",
    "\n",
    "Source - [ASQP: Carrier Codes and Names](https://aspm.faa.gov/aspmhelp/index/ASQP__Carrier_Codes_and_Names.html)\n"
   ]
  },
  {
   "cell_type": "markdown",
   "metadata": {},
   "source": [
    "### 7. Get the count of flights delayed by more than 30 minutes by the Smallest 10 carriers - 8 points"
   ]
  },
  {
   "cell_type": "markdown",
   "metadata": {},
   "source": [
    "#### 7.1 - Filter the dataframe by the smallest 10 carriers (2 points)\n",
    "\n",
    "Useful functions - [pyspark.sql.DataFrame.filter](https://spark.apache.org/docs/latest/api/python/reference/pyspark.sql/api/pyspark.sql.DataFrame.filter.html), [pyspark.sql.Column.isin](https://spark.apache.org/docs/latest/api/python/reference/pyspark.sql/api/pyspark.sql.Column.isin.html)\n",
    "\n",
    "##### **Expected output** -  The top 25 rows of the filtered dataframe i.e. the dataframe containing only the Smallest 10 carriers in the 'OP_CARRIER' column\n",
    "\n",
    "<!-- Your output should look like this: -->\n",
    "<!-- \n",
    "|   FL_DATE|ORIGIN|ARR_DELAY|DAY_OF_WEEK|MONTH|\n",
    "| ---------|------|---------|-----------|-----|\n",
    "|2016-01-01|   ATL|     -2.0|          6|    1|\n",
    "|2016-01-01|   LAX|    -13.0|          6|    1|\n",
    "..23 more -->"
   ]
  },
  {
   "cell_type": "code",
   "execution_count": null,
   "metadata": {
    "cell_id": "95377ef4-7ae5-4f33-80d7-554934a27fea",
    "deletable": false,
    "tags": []
   },
   "outputs": [
    {
     "name": "stdout",
     "output_type": "stream",
     "text": [
      "+----------+----------+------+--------+---------+-----------+-----+\n",
      "|   FL_DATE|OP_CARRIER|ORIGIN|DISTANCE|ARR_DELAY|DAY_OF_WEEK|MONTH|\n",
      "+----------+----------+------+--------+---------+-----------+-----+\n",
      "|2016-01-01|        F9|   LAX|   862.0|     -4.0|          6|    1|\n",
      "|2016-01-01|        F9|   DEN|  1607.0|    -11.0|          6|    1|\n",
      "|2016-01-01|        F9|   ATL|   404.0|     -9.0|          6|    1|\n",
      "|2016-01-01|        F9|   MCO|   404.0|    -14.0|          6|    1|\n",
      "|2016-01-01|        F9|   LAS|  1747.0|    -10.0|          6|    1|\n",
      "|2016-01-01|        F9|   ATL|  1947.0|    -19.0|          6|    1|\n",
      "|2016-01-01|        F9|   IND|   977.0|    -40.0|          6|    1|\n",
      "|2016-01-01|        F9|   DEN|  1709.0|    -14.0|          6|    1|\n",
      "|2016-01-01|        F9|   CVG|   757.0|     -8.0|          6|    1|\n",
      "|2016-01-01|        F9|   MCO|   757.0|    -10.0|          6|    1|\n",
      "|2016-01-01|        F9|   MCO|   829.0|    -16.0|          6|    1|\n",
      "|2016-01-01|        F9|   STL|   869.0|     -4.0|          6|    1|\n",
      "|2016-01-01|        F9|   TPA|   869.0|    -12.0|          6|    1|\n",
      "|2016-01-01|        F9|   DEN|  1199.0|    -18.0|          6|    1|\n",
      "|2016-01-01|        F9|   ATL|  1747.0|    -17.0|          6|    1|\n",
      "|2016-01-01|        F9|   DEN|   641.0|    -13.0|          6|    1|\n",
      "|2016-01-01|        F9|   ORD|   888.0|    -21.0|          6|    1|\n",
      "|2016-01-01|        F9|   PHX|  1440.0|    -25.0|          6|    1|\n",
      "|2016-01-01|        F9|   ATL|   606.0|     28.0|          6|    1|\n",
      "|2016-01-01|        F9|   ORD|  1440.0|    -11.0|          6|    1|\n",
      "|2016-01-01|        F9|   ATL|  1199.0|     16.0|          6|    1|\n",
      "|2016-01-01|        F9|   DEN|   967.0|    -15.0|          6|    1|\n",
      "|2016-01-01|        F9|   SFO|  1846.0|      5.0|          6|    1|\n",
      "|2016-01-01|        F9|   ORD|   606.0|    -13.0|          6|    1|\n",
      "|2016-01-01|        F9|   ORD|   678.0|    -14.0|          6|    1|\n",
      "+----------+----------+------+--------+---------+-----------+-----+\n",
      "only showing top 25 rows\n",
      "\n"
     ]
    }
   ],
   "source": [
    "from pyspark.sql.functions import col\n",
    "\n",
    "smallest_10_carriers_list = [row[\"OP_CARRIER\"] for row in smallest_10_carriers.collect()]\n",
    "\n",
    "df_filtered_smallest_carriers = df_transformed.filter(col(\"OP_CARRIER\").isin(smallest_10_carriers_list))\n",
    "\n",
    "df_filtered_smallest_carriers.show(25)"
   ]
  },
  {
   "cell_type": "markdown",
   "metadata": {},
   "source": [
    "#### 7.2 - Filter dataframe for 10 smallest airlines by flights delayed by more than 30 minutes (1 point)\n",
    "\n",
    "Useful functions - [pyspark.sql.DataFrame.filter](https://spark.apache.org/docs/latest/api/python/reference/pyspark.sql/api/pyspark.sql.DataFrame.filter.html), [pyspark.sql.functions.col](https://spark.apache.org/docs/latest/api/python/reference/pyspark.sql/api/pyspark.sql.functions.col.html)\n",
    "\n",
    "##### **Expected output** - The dataframe of the 10 smallest carriers filtered by flights delayed by more than 30 minutes."
   ]
  },
  {
   "cell_type": "code",
   "execution_count": 79,
   "metadata": {
    "cell_id": "e9065358-c73c-400c-bcb3-58b717b644c3",
    "deletable": false,
    "tags": []
   },
   "outputs": [
    {
     "name": "stdout",
     "output_type": "stream",
     "text": [
      "+----------+----------+------+--------+---------+-----------+-----+\n",
      "|   FL_DATE|OP_CARRIER|ORIGIN|DISTANCE|ARR_DELAY|DAY_OF_WEEK|MONTH|\n",
      "+----------+----------+------+--------+---------+-----------+-----+\n",
      "|2016-01-01|        F9|   DEN|   888.0|     54.0|          6|    1|\n",
      "|2016-01-01|        F9|   ORD|  1744.0|     55.0|          6|    1|\n",
      "|2016-01-01|        F9|   ORD|  1514.0|     34.0|          6|    1|\n",
      "|2016-01-01|        F9|   DEN|   896.0|    190.0|          6|    1|\n",
      "|2016-01-01|        F9|   CLE|  1201.0|     52.0|          6|    1|\n",
      "|2016-01-01|        F9|   LAS|  1678.0|    179.0|          6|    1|\n",
      "|2016-01-01|        F9|   MKE|  1524.0|    190.0|          6|    1|\n",
      "|2016-01-01|        HA|   SFO|  2398.0|     94.0|          6|    1|\n",
      "|2016-01-01|        NK|   DTW|   629.0|     40.0|          6|    1|\n",
      "|2016-01-01|        NK|   ORD|  1440.0|     33.0|          6|    1|\n",
      "|2016-01-01|        NK|   LBE|   866.0|     42.0|          6|    1|\n",
      "|2016-01-01|        NK|   MSP|  1299.0|     83.0|          6|    1|\n",
      "|2016-01-01|        NK|   LAS|  1299.0|    114.0|          6|    1|\n",
      "|2016-01-01|        NK|   CLE|   927.0|     45.0|          6|    1|\n",
      "|2016-01-01|        NK|   TPA|   927.0|     32.0|          6|    1|\n",
      "|2016-01-01|        NK|   RSW|  1120.0|    120.0|          6|    1|\n",
      "|2016-01-01|        NK|   MCO|   985.0|    107.0|          6|    1|\n",
      "|2016-01-01|        NK|   OAK|  1457.0|     52.0|          6|    1|\n",
      "|2016-01-01|        NK|   ORD|  1182.0|    133.0|          6|    1|\n",
      "|2016-01-01|        NK|   RSW|  1017.0|     86.0|          6|    1|\n",
      "+----------+----------+------+--------+---------+-----------+-----+\n",
      "only showing top 20 rows\n",
      "\n"
     ]
    }
   ],
   "source": [
    "from pyspark.sql.functions import col\n",
    "\n",
    "df_smallest_carriers_30 = df_filtered_smallest_carriers.filter(col(\"ARR_DELAY\") > 30)\n",
    "df_smallest_carriers_30.show()"
   ]
  },
  {
   "cell_type": "markdown",
   "metadata": {},
   "source": [
    "#### 7.3 - Calculate count of flights delayed by more than 30 minutes for the 10 smallest airlines (2 points)\n",
    "\n",
    "##### **Expected output** - The smallest 10 carriers and the count of flights from them that are delayed by more than 30 minutes under column names 'OP_CARRIER', 'count'. Sort your results by 'count' in descending order."
   ]
  },
  {
   "cell_type": "code",
   "execution_count": 80,
   "metadata": {
    "cell_id": "2a9a924e-2fc4-49fc-9b5f-5be045f0ae2f",
    "deletable": false,
    "tags": []
   },
   "outputs": [
    {
     "name": "stdout",
     "output_type": "stream",
     "text": [
      "+----------+-----+\n",
      "|OP_CARRIER|count|\n",
      "+----------+-----+\n",
      "|        NK|61757|\n",
      "|        F9|50771|\n",
      "|        YX|36261|\n",
      "|        MQ|35296|\n",
      "|        OH|35249|\n",
      "|        9E|29957|\n",
      "|        YV|27634|\n",
      "|        VX|24355|\n",
      "|        G4|13562|\n",
      "|        HA| 9532|\n",
      "+----------+-----+\n",
      "\n"
     ]
    }
   ],
   "source": [
    "df_smallest_carriers_30_10 = df_smallest_carriers_30.groupBy(\"OP_CARRIER\").count().orderBy(\"count\", ascending=False)\n",
    "df_smallest_carriers_30_10.show()"
   ]
  },
  {
   "cell_type": "markdown",
   "metadata": {},
   "source": [
    "#### 7.4 - Plot count of flights delayed by more than 30 minutes for the Smallest 10 carriers (2 points)\n",
    "\n",
    "Useful functions - [matplotlib.pyplot.bar](https://matplotlib.org/stable/api/_as_gen/matplotlib.pyplot.bar.html)\n",
    "\n",
    "##### **Expected output** A bar plot of counts of flights delayed by more than 30 minutes for each of the Smallest 10 carriers titled 'No. of flights delayed more than 30 mins. for the smallest 10 carriers' with x-axis labelled as 'Carrier' and y-axis labelled as 'No. of flights'"
   ]
  },
  {
   "cell_type": "code",
   "execution_count": 81,
   "metadata": {},
   "outputs": [],
   "source": [
    "df_smallest_carriers_30_10_pd = df_smallest_carriers_30_10.toPandas()"
   ]
  },
  {
   "cell_type": "code",
   "execution_count": 82,
   "metadata": {
    "cell_id": "8f98e1e5-2f82-4f27-a9c6-ac5e9a40fea4",
    "deletable": false,
    "tags": []
   },
   "outputs": [
    {
     "data": {
      "image/png": "[encoded data removed]",
      "text/plain": [
       "<Figure size 1000x800 with 1 Axes>"
      ]
     },
     "metadata": {},
     "output_type": "display_data"
    }
   ],
   "source": [
    "plt.figure(figsize=(10, 8))\n",
    "plt.bar(df_smallest_carriers_30_10_pd[\"OP_CARRIER\"], df_smallest_carriers_30_10_pd[\"count\"])\n",
    "plt.xlabel(\"Carrier\")\n",
    "plt.ylabel(\"No. of flights\")\n",
    "plt.title(\"No. of flights delayed more than 30 mins. for the smallest 10 carriers\")\n",
    "plt.show()"
   ]
  },
  {
   "cell_type": "markdown",
   "metadata": {},
   "source": [
    "#### 7.5 - Filter to get data for the smallest carrier and save the filtered DataFrame as a CSV File on the local filesystem ( 1 point)\n",
    "\n",
    "**NOTE**: Spark uses a distributed memory system, and stores working data in fragments known as \"partitions\". This is advantageous when a Spark cluster spans multiple machines, as each machine will only require part of the working data to do its own job. By default, Spark will save each of these data partitions into a individual file to avoid I/O collisions. We want only one output file, so we'll need to fuse all the data into a single partition first. \n",
    "\n",
    "Your task: \n",
    "1. Filter the dataframe from **step 7.1** to contain only rows with flights from the **SMALLEST** carrier as observed in the pie chart from **step 6**.\n",
    "2. Coalesce this filtered dataframe you just created to one partition using `DataFrame.coalesce(1)`. This returns a 1-partition dataframe. This makes sure that all our results will end up in the same csv file. \n",
    "3. Save the 1-partition dataframe to your local filesystem using the `DataFrame.write.csv(<path>)` method. Remember that you need \"file://\\<path\\>/\\<filename\\>\" when writing to the local file system.\n",
    "4. In your local filesystem, you should see a folder with the specified \\<filename\\>. Since we made sure to coalesce our dataframe to just one partition, we should expect to find only one saved partition in this folder, saved also as a CSV. Note the name of this file, it should look something like `part-00000-xx.....xx.csv`. You may rename this file to something more interpretable - let's say `results.csv`. \n",
    "5. Finally, we want you to submit a CSV containing the first 50 rows of the results file. Remember that we want the first 51 lines which would include the header as well - so basically it is header + 50 rows.\n",
    "\n",
    "**REMINDER**: The results are saved to your local filesystem and the folder where you executed your launch script is mapped to the '/home/work' directory in your Docker container. You can read more about this mapping here - https://docs.docker.com/engine/storage/bind-mounts/\n",
    "\n",
    "##### **Expected output**: None"
   ]
  },
  {
   "cell_type": "code",
   "execution_count": 88,
   "metadata": {},
   "outputs": [
    {
     "name": "stdout",
     "output_type": "stream",
     "text": [
      "+----------+-----+\n",
      "|OP_CARRIER|count|\n",
      "+----------+-----+\n",
      "|        G4|95192|\n",
      "+----------+-----+\n",
      "\n"
     ]
    }
   ],
   "source": [
    "from pyspark.sql.functions import col\n",
    "\n",
    "# Get the smallest carrier (first row of smallest_10_carriers)\n",
    "smallest_carrier = smallest_10_carriers.limit(1)\n",
    "\n",
    "smallest_carrier.show()"
   ]
  },
  {
   "cell_type": "code",
   "execution_count": 90,
   "metadata": {},
   "outputs": [
    {
     "name": "stdout",
     "output_type": "stream",
     "text": [
      "+----------+----------+------+--------+---------+-----------+-----+\n",
      "|   FL_DATE|OP_CARRIER|ORIGIN|DISTANCE|ARR_DELAY|DAY_OF_WEEK|MONTH|\n",
      "+----------+----------+------+--------+---------+-----------+-----+\n",
      "|2018-01-01|        G4|   FLL|   851.0|     15.0|          2|    1|\n",
      "|2018-01-01|        G4|   MEM|   851.0|      5.0|          2|    1|\n",
      "|2018-01-01|        G4|   FLL|   620.0|     30.0|          2|    1|\n",
      "|2018-01-01|        G4|   GSP|   620.0|     37.0|          2|    1|\n",
      "|2018-01-01|        G4|   FLL|   781.0|     68.0|          2|    1|\n",
      "|2018-01-01|        G4|   ORF|   781.0|     63.0|          2|    1|\n",
      "|2018-01-01|        G4|   SFB|   511.0|     14.0|          2|    1|\n",
      "|2018-01-01|        G4|   TYS|   511.0|      6.0|          2|    1|\n",
      "|2018-01-01|        G4|   PIE|   831.0|      2.0|          2|    1|\n",
      "|2018-01-01|        G4|   DAY|   831.0|      6.0|          2|    1|\n",
      "|2018-01-01|        G4|   PIE|  1126.0|     -6.0|          2|    1|\n",
      "|2018-01-01|        G4|   DSM|  1126.0|     -6.0|          2|    1|\n",
      "|2018-01-01|        G4|   PIE|   912.0|     -5.0|          2|    1|\n",
      "|2018-01-01|        G4|   FWA|   912.0|    333.0|          2|    1|\n",
      "|2018-01-01|        G4|   PIE|  1069.0|     -2.0|          2|    1|\n",
      "|2018-01-01|        G4|   IAG|  1069.0|      9.0|          2|    1|\n",
      "|2018-01-01|        G4|   PIE|   841.0|     -8.0|          2|    1|\n",
      "|2018-01-01|        G4|   BLV|   841.0|      3.0|          2|    1|\n",
      "|2018-01-01|        G4|   PIE|   550.0|     12.0|          2|    1|\n",
      "|2018-01-01|        G4|   TYS|   550.0|     11.0|          2|    1|\n",
      "+----------+----------+------+--------+---------+-----------+-----+\n",
      "only showing top 20 rows\n",
      "\n"
     ]
    }
   ],
   "source": [
    "smallest_carriers_list = [row[\"OP_CARRIER\"] for row in smallest_carrier.collect()]\n",
    "\n",
    "df_smallest_carriers_top_50 = df_transformed.filter(col(\"OP_CARRIER\").isin(smallest_carriers_list)).limit(50)\n",
    "\n",
    "df_smallest_carriers_top_50.show()"
   ]
  },
  {
   "cell_type": "code",
   "execution_count": 91,
   "metadata": {},
   "outputs": [],
   "source": [
    "df_single_partition = df_smallest_carriers_top_50.coalesce(1)\n",
    "\n",
    "df_single_partition.write.mode(\"overwrite\").csv(\"hdfs:///Demo1-HDFS/50_rows.csv\", header=True)"
   ]
  },
  {
   "cell_type": "markdown",
   "metadata": {},
   "source": [
    "The resultant file saved in the step above is actually a folder, which contains individually saved files from each partition of the saved dataframe. <br> <br>\n",
    "Now, use a command to show the contents of the resulting folder on your local filesystem from the last step in the cell below. <br>\n",
    "You will need to include ‘!’ before the command for Jupyter Notebook to recognize it as an operating system command. For instance '! pwd' displays the path name of your current directory."
   ]
  },
  {
   "cell_type": "code",
   "execution_count": 92,
   "metadata": {},
   "outputs": [
    {
     "name": "stdout",
     "output_type": "stream",
     "text": [
      "/home/jovyan/MGTA466:Session1/Demo1-Local\n"
     ]
    }
   ],
   "source": [
    "! pwd"
   ]
  },
  {
   "cell_type": "markdown",
   "metadata": {},
   "source": [
    "#### **Expected output**: List of files in the directory where results were written out by PySpark. You should see a '_SUCCESS' file in this directory"
   ]
  },
  {
   "cell_type": "code",
   "execution_count": 93,
   "metadata": {
    "cell_id": "9badd4ba-63a2-42c4-9dc7-8df9ecaef8f3",
    "deletable": false,
    "tags": []
   },
   "outputs": [
    {
     "name": "stdout",
     "output_type": "stream",
     "text": [
      "Found 2 items\n",
      "-rw-r--r--   1 jovyan supergroup          0 2025-03-01 17:55 hdfs:///Demo1-HDFS/50_rows.csv/_SUCCESS\n",
      "-rw-r--r--   1 jovyan supergroup       1729 2025-03-01 17:55 hdfs:///Demo1-HDFS/50_rows.csv/part-00000-b8da10b3-dec2-4dbd-9866-565e210b7f12-c000.csv\n"
     ]
    }
   ],
   "source": [
    "! hdfs dfs -ls hdfs:///Demo1-HDFS/50_rows.csv"
   ]
  },
  {
   "cell_type": "markdown",
   "metadata": {},
   "source": [
    "Now, stop the spark session in the cell below\n",
    "#### **Expected output**: None"
   ]
  },
  {
   "cell_type": "code",
   "execution_count": 94,
   "metadata": {
    "cell_id": "39d3de0c-4769-4a5a-a4a1-cb21aa7aa628",
    "deletable": false,
    "tags": []
   },
   "outputs": [
    {
     "name": "stdout",
     "output_type": "stream",
     "text": [
      "Found 1 items\n",
      "drwxr-xr-x   - jovyan supergroup          0 2025-03-01 17:55 /Demo1-HDFS\n"
     ]
    }
   ],
   "source": [
    "! hdfs dfs -ls /"
   ]
  },
  {
   "cell_type": "code",
   "execution_count": 95,
   "metadata": {},
   "outputs": [],
   "source": [
    "! hdfs dfs -get hdfs:///Demo1-HDFS/50_rows.csv/part-00000-b8da10b3-dec2-4dbd-9866-565e210b7f12-c000.csv 50_rows.csv"
   ]
  },
  {
   "cell_type": "code",
   "execution_count": 96,
   "metadata": {},
   "outputs": [],
   "source": [
    "# Stop Spark session\n",
    "\n",
    "spark.stop()"
   ]
  },
  {
   "cell_type": "code",
   "execution_count": 97,
   "metadata": {},
   "outputs": [
    {
     "name": "stdout",
     "output_type": "stream",
     "text": [
      "Stopping HDFS ...\n"
     ]
    }
   ],
   "source": [
    "#Stop HDFS\n",
    "!$HADOOP_HOME/stop-dfs.sh"
   ]
  },
  {
   "cell_type": "markdown",
   "metadata": {},
   "source": [
    "### 8. Submission of `50_rows.csv` - 2 points\n",
    "\n",
    "#### **Expected output**(in the 50_rows.csv file) - Top 50 rows of the Dataframe filtered by the smallest flight carrier + column header\n",
    "**NOTE** - No output is expected in the notebook\n",
    "\n",
    "The csv file should have seven columns, `FL_DATE`, `OP_CARRIER`, `ORIGIN`, `DISTANCE`, `ARR_DELAY`, `DAY_OF_WEEK`, `MONTH`, in the first line and 50 more lines with the top 50 rows of the filtered dataframe."
   ]
  },
  {
   "cell_type": "code",
   "execution_count": null,
   "metadata": {},
   "outputs": [],
   "source": []
  }
 ],
 "metadata": {
  "celltoolbar": "Edit Metadata",
  "kernelspec": {
   "display_name": "base",
   "language": "python",
   "name": "python3"
  },
  "language_info": {
   "codemirror_mode": {
    "name": "ipython",
    "version": 3
   },
   "file_extension": ".py",
   "mimetype": "text/x-python",
   "name": "python",
   "nbconvert_exporter": "python",
   "pygments_lexer": "ipython3",
   "version": "3.11.9"
  }
 },
 "nbformat": 4,
 "nbformat_minor": 4
}
