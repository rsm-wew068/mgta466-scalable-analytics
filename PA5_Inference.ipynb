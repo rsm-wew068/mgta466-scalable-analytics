{
 "cells": [
  {
   "cell_type": "markdown",
   "id": "dedec6a4-2eea-4e00-9997-df494f8471b5",
   "metadata": {
    "tags": []
   },
   "source": [
    "# MGTA 466: Programming Assignment 5 - XGBoost Inference Notebook\n",
    "<!-- \n",
    "## Classification on Amazon SageMaker\n",
    "\n",
    "Perform a classification task on the given dataset.<br>\n",
    "Using the features given, you will train a XGBoost decision tree model to predict a given person's salary (the `WAGP` column) - which will be categorized into multiple bins.<br>\n",
    "\n",
    "--- \n",
    "\n",
    "#### Tasks: \n",
    "\n",
    "- Perform Exploratory Data Analysis on the given dataset\n",
    "- Save preprocessed datasets to Amazon S3\n",
    "- Use the Amazon Sagemaker platform to train an XGBoost model\n",
    "- Evaluate the model on the test set using real-time inference\n",
    "- Perform hyperparameter tuning on the XGBoost model\n",
    "\n",
    "#### Submission on Gradescope:\n",
    "You need to submit the following three files under \"PA5\":\n",
    "- The current notebook - **PA5_Starter.ipynb**\n",
    "    - **IMPORTANT** - Make sure all the cell outputs are present in the notebook\n",
    "- The inference notebook - **PA5_Inference.ipynb**\n",
    "- Screenshot of SageMaker dashboard showing no running jobs (nothing should be in green) - **sagemaker_ss.png**\n",
    " -->\n",
    "#### IMPORTANT submission guidelines enforced by autograder. Please read carefully:\n",
    "  * Make sure that all the cells in this notebook are executed before submission\n",
    "  * Some cells are marked **DO NOT DELETE**. These cells cannot be deleted and the output of these cells will be used for autograding\n",
    "  * You can add cells or delete(NOT recommended) other cells, but the **Expected Output** for each of the tasks MUST be the output of the cells marked as such\n",
    "  * DO NOT print anything other than the *exact* expected output. Do not include any sentences describing the output. This is strictly enforced by the autograder which checks for an *exact* match of the expected output. For example, if you are expected to print the PySpark version:\n",
    "      * '10.9.8' - <span style=\"color:#093\">CORRECT</span>\n",
    "      * 'The PySpark version is 10.9.8' - <span style=\"color:#FF0000\">INCORRECT</span>\n",
    "  * You can add cells for printing debugging information anywhere, but do not print anything else in **Expected Output** cells other than the expected output for the task\n",
    "  \n",
    "**NOTE** - In this Assignment, some of the cells may have additional logging output and that is acceptable\n",
    "\n",
    "---\n",
    "\n",
    "Remember: when in doubt, read the documentation first. It's always helpful to search for the class that you're trying to work with, e.g. pyspark.sql.DataFrame. \n",
    "\n",
    "Pandas API documentation: https://pandas.pydata.org/pandas-docs/stable/reference/index.html\n",
    "\n",
    "Amazon Sagemaker API documentation: https://sagemaker.readthedocs.io/en/stable/\n",
    "\n",
    "Amazon Sagemaker Tutorials: https://docs.aws.amazon.com/sagemaker/latest/dg/gs.html \n",
    "\n",
    "---"
   ]
  },
  {
   "cell_type": "markdown",
   "id": "54d6802f-a048-4084-b004-578d483bc5af",
   "metadata": {},
   "source": [
    "### Please make sure to complete steps 1 to 10.1 in the starter notebook before proceeding with step 11 below"
   ]
  },
  {
   "cell_type": "markdown",
   "id": "552ab4b3-4b12-48ce-82cb-c32256004155",
   "metadata": {},
   "source": [
    "### 11. Get Amazon IAM execution role & instance region"
   ]
  },
  {
   "cell_type": "markdown",
   "id": "7d413f9b-9f64-4dc9-b7fe-0d41829ec4b7",
   "metadata": {},
   "source": [
    " Make sure to create an S3 bucket or re-use the ones from prior exercises"
   ]
  },
  {
   "cell_type": "code",
   "execution_count": 1,
   "id": "9b46ffd6-929c-4542-9f62-a2a5aa5ce7b8",
   "metadata": {
    "tags": []
   },
   "outputs": [
    {
     "name": "stderr",
     "output_type": "stream",
     "text": [
      "/home/ec2-user/anaconda3/envs/python3/lib/python3.10/site-packages/pydantic/_internal/_fields.py:192: UserWarning: Field name \"json\" in \"MonitoringDatasetFormat\" shadows an attribute in parent \"Base\"\n",
      "  warnings.warn(\n"
     ]
    },
    {
     "data": {
      "text/html": [
       "<pre style=\"white-space:pre;overflow-x:auto;line-height:normal;font-family:Menlo,'DejaVu Sans Mono',consolas,'Courier New',monospace\"><span style=\"color: #7fbfbf; text-decoration-color: #7fbfbf\">[03/17/25 07:08:07] </span><span style=\"color: #0069ff; text-decoration-color: #0069ff; font-weight: bold\">INFO    </span> Found credentials from IAM Role:                                   <a href=\"file:///home/ec2-user/anaconda3/envs/python3/lib/python3.10/site-packages/botocore/credentials.py\" target=\"_blank\"><span style=\"color: #7f7f7f; text-decoration-color: #7f7f7f\">credentials.py</span></a><span style=\"color: #7f7f7f; text-decoration-color: #7f7f7f\">:</span><a href=\"file:///home/ec2-user/anaconda3/envs/python3/lib/python3.10/site-packages/botocore/credentials.py#1132\" target=\"_blank\"><span style=\"color: #7f7f7f; text-decoration-color: #7f7f7f\">1132</span></a>\n",
       "<span style=\"color: #7fbfbf; text-decoration-color: #7fbfbf\">                    </span>         BaseNotebookInstanceEc2InstanceRole                                <span style=\"color: #7f7f7f; text-decoration-color: #7f7f7f\">                   </span>\n",
       "</pre>\n"
      ],
      "text/plain": [
       "\u001b[2;36m[03/17/25 07:08:07]\u001b[0m\u001b[2;36m \u001b[0m\u001b[1;38;2;0;105;255mINFO    \u001b[0m Found credentials from IAM Role:                                   \u001b]8;id=990526;file:///home/ec2-user/anaconda3/envs/python3/lib/python3.10/site-packages/botocore/credentials.py\u001b\\\u001b[2mcredentials.py\u001b[0m\u001b]8;;\u001b\\\u001b[2m:\u001b[0m\u001b]8;id=325640;file:///home/ec2-user/anaconda3/envs/python3/lib/python3.10/site-packages/botocore/credentials.py#1132\u001b\\\u001b[2m1132\u001b[0m\u001b]8;;\u001b\\\n",
       "\u001b[2;36m                    \u001b[0m         BaseNotebookInstanceEc2InstanceRole                                \u001b[2m                   \u001b[0m\n"
      ]
     },
     "metadata": {},
     "output_type": "display_data"
    },
    {
     "name": "stdout",
     "output_type": "stream",
     "text": [
      "sagemaker.config INFO - Not applying SDK defaults from location: /etc/xdg/sagemaker/config.yaml\n",
      "sagemaker.config INFO - Not applying SDK defaults from location: /home/ec2-user/.config/sagemaker/config.yaml\n"
     ]
    }
   ],
   "source": [
    "import os, sagemaker\n",
    "import numpy as np\n",
    "import pandas as pd\n",
    "import warnings\n",
    "warnings.filterwarnings('ignore')\n",
    "from sagemaker import get_execution_role"
   ]
  },
  {
   "cell_type": "markdown",
   "id": "dc360d54-aa9e-48c7-b636-2479d787ce30",
   "metadata": {},
   "source": [
    "Get and store the IAM executon role, SageMaker Session, instance region & the SageMaker client in the cell below.\n",
    "\n",
    "#### **Expected output:** Print the instance region"
   ]
  },
  {
   "cell_type": "code",
   "execution_count": 2,
   "id": "335fb212-00d0-4072-a338-67da61f06248",
   "metadata": {
    "cell_id": "a0a593aa-cce7-474d-aeee-7d8bb4fcd711",
    "deletable": false,
    "tags": []
   },
   "outputs": [
    {
     "data": {
      "text/html": [
       "<pre style=\"white-space:pre;overflow-x:auto;line-height:normal;font-family:Menlo,'DejaVu Sans Mono',consolas,'Courier New',monospace\"><span style=\"color: #7fbfbf; text-decoration-color: #7fbfbf\">[03/17/25 07:08:10] </span><span style=\"color: #0069ff; text-decoration-color: #0069ff; font-weight: bold\">INFO    </span> Found credentials from IAM Role:                                   <a href=\"file:///home/ec2-user/anaconda3/envs/python3/lib/python3.10/site-packages/botocore/credentials.py\" target=\"_blank\"><span style=\"color: #7f7f7f; text-decoration-color: #7f7f7f\">credentials.py</span></a><span style=\"color: #7f7f7f; text-decoration-color: #7f7f7f\">:</span><a href=\"file:///home/ec2-user/anaconda3/envs/python3/lib/python3.10/site-packages/botocore/credentials.py#1132\" target=\"_blank\"><span style=\"color: #7f7f7f; text-decoration-color: #7f7f7f\">1132</span></a>\n",
       "<span style=\"color: #7fbfbf; text-decoration-color: #7fbfbf\">                    </span>         BaseNotebookInstanceEc2InstanceRole                                <span style=\"color: #7f7f7f; text-decoration-color: #7f7f7f\">                   </span>\n",
       "</pre>\n"
      ],
      "text/plain": [
       "\u001b[2;36m[03/17/25 07:08:10]\u001b[0m\u001b[2;36m \u001b[0m\u001b[1;38;2;0;105;255mINFO    \u001b[0m Found credentials from IAM Role:                                   \u001b]8;id=70569;file:///home/ec2-user/anaconda3/envs/python3/lib/python3.10/site-packages/botocore/credentials.py\u001b\\\u001b[2mcredentials.py\u001b[0m\u001b]8;;\u001b\\\u001b[2m:\u001b[0m\u001b]8;id=49566;file:///home/ec2-user/anaconda3/envs/python3/lib/python3.10/site-packages/botocore/credentials.py#1132\u001b\\\u001b[2m1132\u001b[0m\u001b]8;;\u001b\\\n",
       "\u001b[2;36m                    \u001b[0m         BaseNotebookInstanceEc2InstanceRole                                \u001b[2m                   \u001b[0m\n"
      ]
     },
     "metadata": {},
     "output_type": "display_data"
    },
    {
     "data": {
      "text/html": [
       "<pre style=\"white-space:pre;overflow-x:auto;line-height:normal;font-family:Menlo,'DejaVu Sans Mono',consolas,'Courier New',monospace\"><span style=\"color: #7fbfbf; text-decoration-color: #7fbfbf\">                    </span><span style=\"color: #0069ff; text-decoration-color: #0069ff; font-weight: bold\">INFO    </span> Found credentials from IAM Role:                                   <a href=\"file:///home/ec2-user/anaconda3/envs/python3/lib/python3.10/site-packages/botocore/credentials.py\" target=\"_blank\"><span style=\"color: #7f7f7f; text-decoration-color: #7f7f7f\">credentials.py</span></a><span style=\"color: #7f7f7f; text-decoration-color: #7f7f7f\">:</span><a href=\"file:///home/ec2-user/anaconda3/envs/python3/lib/python3.10/site-packages/botocore/credentials.py#1132\" target=\"_blank\"><span style=\"color: #7f7f7f; text-decoration-color: #7f7f7f\">1132</span></a>\n",
       "<span style=\"color: #7fbfbf; text-decoration-color: #7fbfbf\">                    </span>         BaseNotebookInstanceEc2InstanceRole                                <span style=\"color: #7f7f7f; text-decoration-color: #7f7f7f\">                   </span>\n",
       "</pre>\n"
      ],
      "text/plain": [
       "\u001b[2;36m                   \u001b[0m\u001b[2;36m \u001b[0m\u001b[1;38;2;0;105;255mINFO    \u001b[0m Found credentials from IAM Role:                                   \u001b]8;id=234085;file:///home/ec2-user/anaconda3/envs/python3/lib/python3.10/site-packages/botocore/credentials.py\u001b\\\u001b[2mcredentials.py\u001b[0m\u001b]8;;\u001b\\\u001b[2m:\u001b[0m\u001b]8;id=684887;file:///home/ec2-user/anaconda3/envs/python3/lib/python3.10/site-packages/botocore/credentials.py#1132\u001b\\\u001b[2m1132\u001b[0m\u001b]8;;\u001b\\\n",
       "\u001b[2;36m                    \u001b[0m         BaseNotebookInstanceEc2InstanceRole                                \u001b[2m                   \u001b[0m\n"
      ]
     },
     "metadata": {},
     "output_type": "display_data"
    },
    {
     "data": {
      "text/html": [
       "<pre style=\"white-space:pre;overflow-x:auto;line-height:normal;font-family:Menlo,'DejaVu Sans Mono',consolas,'Courier New',monospace\"><span style=\"color: #7fbfbf; text-decoration-color: #7fbfbf\">[03/17/25 07:08:11] </span><span style=\"color: #0069ff; text-decoration-color: #0069ff; font-weight: bold\">INFO    </span> Found credentials from IAM Role:                                   <a href=\"file:///home/ec2-user/anaconda3/envs/python3/lib/python3.10/site-packages/botocore/credentials.py\" target=\"_blank\"><span style=\"color: #7f7f7f; text-decoration-color: #7f7f7f\">credentials.py</span></a><span style=\"color: #7f7f7f; text-decoration-color: #7f7f7f\">:</span><a href=\"file:///home/ec2-user/anaconda3/envs/python3/lib/python3.10/site-packages/botocore/credentials.py#1132\" target=\"_blank\"><span style=\"color: #7f7f7f; text-decoration-color: #7f7f7f\">1132</span></a>\n",
       "<span style=\"color: #7fbfbf; text-decoration-color: #7fbfbf\">                    </span>         BaseNotebookInstanceEc2InstanceRole                                <span style=\"color: #7f7f7f; text-decoration-color: #7f7f7f\">                   </span>\n",
       "</pre>\n"
      ],
      "text/plain": [
       "\u001b[2;36m[03/17/25 07:08:11]\u001b[0m\u001b[2;36m \u001b[0m\u001b[1;38;2;0;105;255mINFO    \u001b[0m Found credentials from IAM Role:                                   \u001b]8;id=645158;file:///home/ec2-user/anaconda3/envs/python3/lib/python3.10/site-packages/botocore/credentials.py\u001b\\\u001b[2mcredentials.py\u001b[0m\u001b]8;;\u001b\\\u001b[2m:\u001b[0m\u001b]8;id=579279;file:///home/ec2-user/anaconda3/envs/python3/lib/python3.10/site-packages/botocore/credentials.py#1132\u001b\\\u001b[2m1132\u001b[0m\u001b]8;;\u001b\\\n",
       "\u001b[2;36m                    \u001b[0m         BaseNotebookInstanceEc2InstanceRole                                \u001b[2m                   \u001b[0m\n"
      ]
     },
     "metadata": {},
     "output_type": "display_data"
    },
    {
     "name": "stdout",
     "output_type": "stream",
     "text": [
      "Success - the SageMaker instance is in the us-west-2 region\n"
     ]
    }
   ],
   "source": [
    "# Define IAM role- this will be necessary when defining your model\n",
    "iam_role = get_execution_role()\n",
    "\n",
    "# Set SageMaker session handle\n",
    "sess = sagemaker.Session()\n",
    "\n",
    "# Set the region of the instance \n",
    "my_region = sess.boto_session.region_name\n",
    "\n",
    "# Set the sagemaker client\n",
    "sagemaker_client = sagemaker.Session().boto_session.client('sagemaker')\n",
    "\n",
    "print(\"Success - the SageMaker instance is in the \" + my_region + \" region\")"
   ]
  },
  {
   "cell_type": "markdown",
   "id": "8ac967c5-5742-45c0-bf3f-7332f1c9a50f",
   "metadata": {},
   "source": [
    "### 12. Prepare test data - 0.5 point\n",
    "\n",
    "Read the test data from the S3 address that you stored the data into in Step 5 of the starter notebook.\n",
    " \n",
    "Drop the target (`WAGP`) column and load the dataframe values in an array as shown in the demo.\n",
    "\n",
    "#### **Expected Output -** Print shape of the dataframe values array in tuple format"
   ]
  },
  {
   "cell_type": "code",
   "execution_count": 3,
   "id": "a4833e3e-7764-4c89-82bb-9ded2aa014a5",
   "metadata": {
    "cell_id": "a0277080-9105-4af4-b056-7ec6ef004791",
    "deletable": false,
    "tags": []
   },
   "outputs": [
    {
     "name": "stdout",
     "output_type": "stream",
     "text": [
      "Using bucket wew-s3-demo\n"
     ]
    },
    {
     "data": {
      "text/html": [
       "<pre style=\"white-space:pre;overflow-x:auto;line-height:normal;font-family:Menlo,'DejaVu Sans Mono',consolas,'Courier New',monospace\"><span style=\"color: #7fbfbf; text-decoration-color: #7fbfbf\">[03/17/25 07:08:15] </span><span style=\"color: #0069ff; text-decoration-color: #0069ff; font-weight: bold\">INFO    </span> Found credentials from IAM Role:                                   <a href=\"file:///home/ec2-user/anaconda3/envs/python3/lib/python3.10/site-packages/botocore/credentials.py\" target=\"_blank\"><span style=\"color: #7f7f7f; text-decoration-color: #7f7f7f\">credentials.py</span></a><span style=\"color: #7f7f7f; text-decoration-color: #7f7f7f\">:</span><a href=\"file:///home/ec2-user/anaconda3/envs/python3/lib/python3.10/site-packages/botocore/credentials.py#1132\" target=\"_blank\"><span style=\"color: #7f7f7f; text-decoration-color: #7f7f7f\">1132</span></a>\n",
       "<span style=\"color: #7fbfbf; text-decoration-color: #7fbfbf\">                    </span>         BaseNotebookInstanceEc2InstanceRole                                <span style=\"color: #7f7f7f; text-decoration-color: #7f7f7f\">                   </span>\n",
       "</pre>\n"
      ],
      "text/plain": [
       "\u001b[2;36m[03/17/25 07:08:15]\u001b[0m\u001b[2;36m \u001b[0m\u001b[1;38;2;0;105;255mINFO    \u001b[0m Found credentials from IAM Role:                                   \u001b]8;id=857697;file:///home/ec2-user/anaconda3/envs/python3/lib/python3.10/site-packages/botocore/credentials.py\u001b\\\u001b[2mcredentials.py\u001b[0m\u001b]8;;\u001b\\\u001b[2m:\u001b[0m\u001b]8;id=56437;file:///home/ec2-user/anaconda3/envs/python3/lib/python3.10/site-packages/botocore/credentials.py#1132\u001b\\\u001b[2m1132\u001b[0m\u001b]8;;\u001b\\\n",
       "\u001b[2;36m                    \u001b[0m         BaseNotebookInstanceEc2InstanceRole                                \u001b[2m                   \u001b[0m\n"
      ]
     },
     "metadata": {},
     "output_type": "display_data"
    }
   ],
   "source": [
    "bucket = \"wew-s3-demo\"\n",
    "prefix = \"data\"\n",
    "print('Using bucket ' + bucket)\n",
    "\n",
    "data_fname = \"s3://{}/{}/{}\".format(bucket, prefix, \"model_data/test_data.csv\")\n",
    "test_df  = pd.read_csv(data_fname)"
   ]
  },
  {
   "cell_type": "code",
   "execution_count": 4,
   "id": "5c75b737-f1e1-4adc-b244-4e1d79a06628",
   "metadata": {},
   "outputs": [],
   "source": [
    "test_df_array = test_df.drop(['WAGP'], axis=1).values"
   ]
  },
  {
   "cell_type": "code",
   "execution_count": null,
   "id": "4b7acb27-0999-4bd3-b3d5-b1900ced0879",
   "metadata": {},
   "outputs": [
    {
     "data": {
      "text/plain": [
       "131988"
      ]
     },
     "execution_count": 5,
     "metadata": {},
     "output_type": "execute_result"
    }
   ],
   "source": [
    "test_df.shape"
   ]
  },
  {
   "cell_type": "markdown",
   "id": "c635a8e3-f5dc-4227-bf3a-ab68ac95727e",
   "metadata": {},
   "source": [
    "### 13. Show the name and status of the deployed model endpoint - 1 point\n",
    "\n",
    "Use the SageMaker client to print the list of active endpoints.\n",
    "\n",
    "<b>Hint: </b> Note that this returns a list of dictionaries. Use a for loop to print out the name and status of each endpoint in the list.\n",
    "\n",
    "Useful Function: [sagemaker_client.list_endpoints()](https://boto3.amazonaws.com/v1/documentation/api/1.26.94/reference/services/sagemaker/client/list_endpoints.html)\n",
    "\n",
    "#### **Expected Output -** Name and status of active endpoint on separate lines"
   ]
  },
  {
   "cell_type": "code",
   "execution_count": 6,
   "id": "c7f49692-ae0c-4175-a386-d2e91938a9c2",
   "metadata": {},
   "outputs": [],
   "source": [
    "# List endpoints\n",
    "endpoints = sagemaker_client.list_endpoints()"
   ]
  },
  {
   "cell_type": "code",
   "execution_count": 7,
   "id": "d15022fd-6b74-4100-a688-51c1d86c3999",
   "metadata": {
    "cell_id": "060d0d0b-2640-4033-99b7-b1b6557f3de4",
    "deletable": false,
    "tags": []
   },
   "outputs": [
    {
     "name": "stdout",
     "output_type": "stream",
     "text": [
      "Endpoint Name: xgboost-2025-03-17-07-02-35-198\n",
      "Status: InService\n",
      "\n"
     ]
    }
   ],
   "source": [
    "# Print endpoint information\n",
    "for endpoint in endpoints['Endpoints']:\n",
    "    print(\"Endpoint Name:\", endpoint['EndpointName'])\n",
    "    # print(\"EndpointArn:\", endpoint['EndpointArn'])\n",
    "    print(\"Status:\", endpoint['EndpointStatus'])\n",
    "    print()"
   ]
  },
  {
   "cell_type": "markdown",
   "id": "63cfc529-78e2-4e7c-b87c-85cc80b55aa6",
   "metadata": {},
   "source": [
    "### 14. Real-Time Inference using deployed endpoints - 1 point\n",
    "\n",
    "Use the `.predictor.Predictor()` method to load the model deployed at the endpoint as shown in the demo. \n",
    "\n",
    "Use the following values for the parameters:\n",
    "* `endpoint_name = <name-of-active-endpoint>`\n",
    "* `sagemaker_session = sess`\n",
    "* `serializer = sagemaker.serializers.CSVSerializer()`\n",
    "* `deserializer = sagemaker.deserializers.BytesDeserializer()`\n",
    "\n",
    "Next, use the loaded model to make predictions on the test data array.\n",
    "\n",
    "**NOTE:** Predictions are returned as byte object, so the contents need to be decoded into string and converted to number array. Refer to the demo for assistance.\n",
    "\n",
    "#### **Expected Output:** Show the predictions array as a Pandas Series\n",
    "\n",
    "Hint: You can use pd.Series to convert predictions array into Series.\n",
    "\n"
   ]
  },
  {
   "cell_type": "code",
   "execution_count": 8,
   "id": "63ea5457-057a-4908-9b3c-fd8d787e7eec",
   "metadata": {
    "cell_id": "e5d26566-aec0-4d6f-8c28-ec1e86842c57",
    "deletable": false,
    "tags": []
   },
   "outputs": [],
   "source": [
    "predictor = sagemaker.predictor.Predictor(endpoint_name='xgboost-2025-03-17-07-02-35-198',\n",
    "                                          sagemaker_session=sess,\n",
    "                                          serializer=sagemaker.serializers.CSVSerializer(),\n",
    "                                          deserializer=sagemaker.deserializers.BytesDeserializer())"
   ]
  },
  {
   "cell_type": "code",
   "execution_count": 9,
   "id": "4028c625-9940-4a3b-814d-1ebb9c915506",
   "metadata": {},
   "outputs": [],
   "source": [
    "predictions = predictor.predict(data=test_df_array).decode('utf-8') # predict!\n",
    "predictions_array = np.fromstring(predictions, sep=',')  #and turn the prediction into an array"
   ]
  },
  {
   "cell_type": "code",
   "execution_count": 10,
   "id": "8be7f5b4-63d2-4bdd-a3ef-18a72bb2edef",
   "metadata": {},
   "outputs": [
    {
     "data": {
      "text/plain": [
       "0         59386.562500\n",
       "1         44999.617188\n",
       "2         31737.544922\n",
       "3         54657.617188\n",
       "4         59719.851562\n",
       "              ...     \n",
       "131983    54472.523438\n",
       "131984    66361.296875\n",
       "131985    39539.285156\n",
       "131986    50260.347656\n",
       "131987    59719.851562\n",
       "Length: 131988, dtype: float64"
      ]
     },
     "execution_count": 10,
     "metadata": {},
     "output_type": "execute_result"
    }
   ],
   "source": [
    "predictions_df = pd.Series(predictions_array)\n",
    "predictions_df"
   ]
  },
  {
   "cell_type": "markdown",
   "id": "c6a76ff0-b093-4f8c-927c-4dfc7dd05755",
   "metadata": {},
   "source": [
    "### 15. Calculate RMSE - 1 point\n",
    "\n",
    "Use the `root_mean_squared_error` method to see how your model performs on the test set. "
   ]
  },
  {
   "cell_type": "code",
   "execution_count": 11,
   "id": "89c9ec4f-8ed5-4efd-a1e1-79034114f61d",
   "metadata": {
    "tags": []
   },
   "outputs": [],
   "source": [
    "from sklearn.metrics import root_mean_squared_error"
   ]
  },
  {
   "cell_type": "markdown",
   "id": "56ad7f19-2680-43f5-9190-b369dcbcbd89",
   "metadata": {},
   "source": [
    "#### **Expected output** - RMSE on test set between the predicted values and target values. Use `print()` for formatting"
   ]
  },
  {
   "cell_type": "code",
   "execution_count": 12,
   "id": "3cb31171-40a1-4686-b61c-bf8ecb8011aa",
   "metadata": {
    "cell_id": "55fa08f8-303c-4fb0-9400-f1f53bca4d56",
    "deletable": false,
    "tags": []
   },
   "outputs": [
    {
     "name": "stdout",
     "output_type": "stream",
     "text": [
      "47402.46804613207\n"
     ]
    }
   ],
   "source": [
    "rmse = root_mean_squared_error(test_df['WAGP'].values, predictions_array)\n",
    "print(rmse)"
   ]
  },
  {
   "cell_type": "markdown",
   "id": "0fae6d4f-756d-41f3-b010-327952b57034",
   "metadata": {},
   "source": [
    "### Please make sure to complete steps 16 to 18.1 in the starter notebook before proceeding with step 19 below\n",
    "\n",
    "**NOTE:** Do not forget to delete the endpoint after usage in step 10.2 in starter notebook"
   ]
  },
  {
   "cell_type": "markdown",
   "id": "43126a3f-3916-4be6-bfd9-daa6b84106b2",
   "metadata": {},
   "source": [
    "### 19. Show the name and status of the deployed _TUNED_ model endpoint - 0.5 points\n",
    "\n",
    "Use the SageMaker client to get the list of active endpoints (Note that this returns a list of dictionaries)\n",
    "\n",
    "\n",
    "#### **Expected Output -** Name of active endpoints after model tuning and their status"
   ]
  },
  {
   "cell_type": "code",
   "execution_count": 13,
   "id": "c58481b8-1ae1-4e95-be15-62d24b77cb03",
   "metadata": {
    "cell_id": "271a790f-aed5-48ed-96ff-0a9b71896f91",
    "deletable": false,
    "tags": []
   },
   "outputs": [],
   "source": [
    "# List endpoints\n",
    "endpoints = sagemaker_client.list_endpoints()"
   ]
  },
  {
   "cell_type": "code",
   "execution_count": 14,
   "id": "fa366340-a651-4cfa-8b60-758b4ca47d1a",
   "metadata": {},
   "outputs": [
    {
     "name": "stdout",
     "output_type": "stream",
     "text": [
      "Endpoint Name: XGBoost-Tuner-250317-0711-004-0cc24b8c\n",
      "Status: InService\n",
      "\n"
     ]
    }
   ],
   "source": [
    "# Print endpoint information\n",
    "for endpoint in endpoints['Endpoints']:\n",
    "    print(\"Endpoint Name:\", endpoint['EndpointName'])\n",
    "    # print(\"EndpointArn:\", endpoint['EndpointArn'])\n",
    "    print(\"Status:\", endpoint['EndpointStatus'])\n",
    "    print()"
   ]
  },
  {
   "cell_type": "markdown",
   "id": "730b4c56-254f-49f4-8d95-c3626c94b2ea",
   "metadata": {},
   "source": [
    "### 20. Real-Time Inference using deployed endpoints after model tuning - 0.5 points\n",
    "\n",
    "Use the `.predictor.Predictor()` method to load the tuned model deployed at the endpoint as shown in the demo. \n",
    "\n",
    "Use the following values for the parameters:\n",
    "* `endpoint_name = <name-of-active-endpoint>`\n",
    "* `sagemaker_session = sess`\n",
    "* `serializer = sagemaker.serializers.CSVSerializer()`\n",
    "* `deserializer = sagemaker.deserializers.BytesDeserializer()`\n",
    "\n",
    "Next, use the loaded model to make predictions on the test data array.\n",
    "\n",
    "**NOTE:** Predictions are returned as byte object, so the contents need to be decoded into string and converted to number array. Refer to the demo for assistance.\n",
    "\n",
    "#### **Expected Output:** Show the predictions array as a Pandas Series\n",
    "\n",
    "Hint: You can use pd.Series to convert predictions array into Series.\n",
    "\n"
   ]
  },
  {
   "cell_type": "code",
   "execution_count": 15,
   "id": "fcee9b5d-84dd-45f2-95d0-a3db59b5d69b",
   "metadata": {
    "cell_id": "2630c6bf-84fc-4654-b48a-35e6d57515fb",
    "deletable": false,
    "tags": []
   },
   "outputs": [],
   "source": [
    "predictor2 = sagemaker.predictor.Predictor(endpoint_name='XGBoost-Tuner-250317-0711-004-0cc24b8c',\n",
    "                                          sagemaker_session=sess,\n",
    "                                          serializer=sagemaker.serializers.CSVSerializer(),\n",
    "                                          deserializer=sagemaker.deserializers.BytesDeserializer())"
   ]
  },
  {
   "cell_type": "code",
   "execution_count": 16,
   "id": "a981a6bd-a9f2-468e-b3d0-5cb08b70e767",
   "metadata": {},
   "outputs": [],
   "source": [
    "predictions2 = predictor2.predict(data=test_df_array).decode('utf-8') # predict!\n",
    "predictions_array2 = np.fromstring(predictions2, sep=',')  #and turn the prediction into an array"
   ]
  },
  {
   "cell_type": "code",
   "execution_count": 17,
   "id": "dfa71e47-9eed-410c-b5dc-dc363181d074",
   "metadata": {},
   "outputs": [
    {
     "data": {
      "text/plain": [
       "0         46521.738281\n",
       "1         56275.281250\n",
       "2         34065.164062\n",
       "3         53835.527344\n",
       "4         52869.089844\n",
       "              ...     \n",
       "131983    51478.023438\n",
       "131984    60065.277344\n",
       "131985    29250.210938\n",
       "131986    48395.433594\n",
       "131987    61578.914062\n",
       "Length: 131988, dtype: float64"
      ]
     },
     "execution_count": 17,
     "metadata": {},
     "output_type": "execute_result"
    }
   ],
   "source": [
    "predictions_df2 = pd.Series(predictions_array2)\n",
    "predictions_df2"
   ]
  },
  {
   "cell_type": "markdown",
   "id": "963fc9ec-a6af-4cbc-951d-e4156e148e72",
   "metadata": {},
   "source": [
    "### 21. Calculate RMSE - 0.5 points\n",
    "\n",
    "Use the `root_mean_squared_error` method to see how your tuned model performs on the test set. "
   ]
  },
  {
   "cell_type": "markdown",
   "id": "d8398723-473c-4d72-a789-01104cc1be2e",
   "metadata": {},
   "source": [
    "#### **Expected output** - RMSE on test set between the predicted values and target values. Use `print()` for formatting"
   ]
  },
  {
   "cell_type": "code",
   "execution_count": 18,
   "id": "30f6e0f5-5f15-4c16-87d3-ac842fddbe72",
   "metadata": {
    "cell_id": "b54e70a6-4ef4-4a47-9c40-5f1c3e113ac8",
    "deletable": false,
    "tags": []
   },
   "outputs": [
    {
     "name": "stdout",
     "output_type": "stream",
     "text": [
      "45599.975478876884\n"
     ]
    }
   ],
   "source": [
    "rmse2 = root_mean_squared_error(test_df['WAGP'].values, predictions_array2)\n",
    "print(rmse2)"
   ]
  },
  {
   "cell_type": "markdown",
   "id": "d5590667-ca86-4e6e-bf6e-94ec2a036e0b",
   "metadata": {},
   "source": [
    "### Go back to the starter notebook and delete any active endpoints (step 18.2) before submitting the assignment"
   ]
  },
  {
   "cell_type": "code",
   "execution_count": null,
   "id": "e4c7500a-3a11-4519-bd50-b23288b67d0b",
   "metadata": {},
   "outputs": [],
   "source": []
  }
 ],
 "metadata": {
  "celltoolbar": "Edit Metadata",
  "kernelspec": {
   "display_name": "conda_python3",
   "language": "python",
   "name": "conda_python3"
  },
  "language_info": {
   "codemirror_mode": {
    "name": "ipython",
    "version": 3
   },
   "file_extension": ".py",
   "mimetype": "text/x-python",
   "name": "python",
   "nbconvert_exporter": "python",
   "pygments_lexer": "ipython3",
   "version": "3.10.16"
  }
 },
 "nbformat": 4,
 "nbformat_minor": 5
}
